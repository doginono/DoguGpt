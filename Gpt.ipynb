{
 "cells": [
  {
   "cell_type": "code",
   "execution_count": 1,
   "id": "8487f666",
   "metadata": {},
   "outputs": [],
   "source": [
    "\n",
    "import os\n",
    "#chat = open(\"../_chat.txt\", encoding=\"utf-8\")\n",
    "with open(\"../_chat.txt\",  encoding=\"utf-8\") as f:\n",
    "    chat = [line.strip('\\n') for line in f]"
   ]
  },
  {
   "cell_type": "markdown",
   "id": "e2ed9cad",
   "metadata": {},
   "source": [
    "## Clean Data"
   ]
  },
  {
   "cell_type": "code",
   "execution_count": 2,
   "id": "dcfe01f5",
   "metadata": {
    "scrolled": true
   },
   "outputs": [
    {
     "name": "stdout",
     "output_type": "stream",
     "text": [
      "[04.10.17, 17:32:35] Elif Yavrum: ‎Messages and calls are end-to-end encrypted. No one outside of this chat, not even WhatsApp, can read or listen to them. [04.10.17, 17:32:35] Elif Yavrum: Numaram degisti ekle beni bro [04.10.17, 18:14:23] Dogu Tamgac: Ekledim bro [05.10.17, 12:14:44] Elif Yavrum: Kk [11.10.17, 21:24:19] Dogu Tamgac: Telefon aldim ha [11.10.17, 21:24:21] Dogu Tamgac: Ekle [11.10.17, 22:04:03] Elif Yavrum: Tamam eklerim ha [11.10.17, 22:12:36] Dogu Tamgac: Napan [11.10.17, 22:13\n",
      "\n",
      "Elif Yavrum: Messages and calls are end-to-end encrypted. No one outside of this chat, not even WhatsApp, can read or listen to them. \n",
      "Elif Yavrum: Numaram degisti ekle beni bro \n",
      "Dogu Tamgac: Ekledim bro \n",
      "Elif Yavrum: Kk \n",
      "Dogu Tamgac: Telefon aldim ha \n",
      "Dogu Tamgac: Ekle \n",
      "Elif Yavrum: Tamam eklerim ha \n",
      "Dogu Tamgac: Napan \n",
      "Elif Yavrum: Selinlerle viski iciyoruz \n",
      "Elif Yavrum: Sen \n",
      "Dogu Tamgac: Ben de kayralardayim \n",
      "Dogu Tamgac: Takiliyoz \n",
      "Dogu Tamgac: Dersler basladi mi \n",
      "Elif Yavrum: Yok \n",
      "Elif Yav\n"
     ]
    }
   ],
   "source": [
    "import re\n",
    "joinedChat=' '.join(chat)\n",
    "print(joinedChat[:500])\n",
    "\n",
    "emoj = re.compile(\"[\"\n",
    "        u\"\\U0001F600-\\U0001F64F\"  # emoticons\n",
    "        u\"\\U0001F300-\\U0001F5FF\"  # symbols & pictographs\n",
    "        u\"\\U0001F680-\\U0001F6FF\"  # transport & map symbols\n",
    "        u\"\\U0001F1E0-\\U0001F1FF\"  # flags (iOS)\n",
    "        u\"\\U00002500-\\U00002BEF\"  # chinese char\n",
    "        u\"\\U00002702-\\U000027B0\"\n",
    "        u\"\\U00002702-\\U000027B0\"\n",
    "        u\"\\U000024C2-\\U0001F251\"\n",
    "        u\"\\U0001f926-\\U0001f937\"\n",
    "        u\"\\U00010000-\\U0010ffff\"\n",
    "        u\"\\u2640-\\u2642\" \n",
    "        u\"\\u2600-\\u2B55\"\n",
    "        u\"\\u200d\"\n",
    "        u\"\\u23cf\"\n",
    "        u\"\\u23e9\"\n",
    "        u\"\\u231a\"\n",
    "        u\"\\ufe0f\"  # dingbats\n",
    "        u\"\\u3030\"\n",
    "                      \"]+\", re.UNICODE)\n",
    "joinedChat=(emoj.sub(r'', joinedChat)) # no emoji\n",
    "\n",
    "joinedChat=re.sub(r\"\\[[^\\]]*\\]\", '\\n', joinedChat)\n",
    "joinedChat=re.sub(r\" Elif Yavrum:\", 'Elif Yavrum:', joinedChat)\n",
    "joinedChat=re.sub(r\" Dogu Tamgac:\", 'Dogu Tamgac:', joinedChat)\n",
    "joinedChat=joinedChat.replace(\"\\u200e\", \"\")\n",
    "print(joinedChat[:500])"
   ]
  },
  {
   "cell_type": "code",
   "execution_count": 3,
   "id": "321adb3a",
   "metadata": {},
   "outputs": [],
   "source": [
    "chars=sorted(list(set(joinedChat)))"
   ]
  },
  {
   "cell_type": "code",
   "execution_count": 4,
   "id": "8e370670",
   "metadata": {
    "scrolled": true
   },
   "outputs": [
    {
     "name": "stdout",
     "output_type": "stream",
     "text": [
      "\t\n",
      " !\"#%&'()*+,-./0123456789:;<=>?@ABCDEFGHIJKLMNOPQRSTUVWXYZ]^_`abcdefghijklmnopqrstuvwxyz|}~ £¨«®¯´·»ÇÖ×ÜßâäçéêöüğİıŞş̈‐—’“”„•…€₺⃣\n",
      "131\n"
     ]
    }
   ],
   "source": [
    "vocab_size=len(set(chars))\n",
    "print(''.join(chars))\n",
    "print(vocab_size)"
   ]
  },
  {
   "cell_type": "markdown",
   "id": "afdd6f11",
   "metadata": {},
   "source": [
    "# Building character level language model. <br>\n",
    "stoi: Map strings to integers. <br>\n",
    "Then apply it and create encoding and decoding lambda functions <br>\n",
    "(Normally you can use sentencepiece from google or tiktoken)"
   ]
  },
  {
   "cell_type": "code",
   "execution_count": 5,
   "id": "28249b39",
   "metadata": {},
   "outputs": [
    {
     "name": "stdout",
     "output_type": "stream",
     "text": [
      "[75, 2, 75]\n",
      "l l\n"
     ]
    }
   ],
   "source": [
    "stoi={ch:i for i,ch in enumerate(chars)}\n",
    "itoi={i:ch for i,ch in enumerate(chars)}\n",
    "encode=lambda s: [stoi[i] for i in s]\n",
    "decode=lambda l: ''.join([itoi[i] for i in l])\n",
    "print(encode(\"l l\"))\n",
    "print(decode(encode(\"l l\")))"
   ]
  },
  {
   "cell_type": "code",
   "execution_count": 6,
   "id": "943da60c",
   "metadata": {
    "scrolled": false
   },
   "outputs": [
    {
     "name": "stdout",
     "output_type": "stream",
     "text": [
      "torch.Size([3742194]) torch.int64\n",
      "tensor([ 1, 38, 75, 72, 69,  2, 58, 64, 85, 81, 84, 76, 27,  2, 46, 68, 82, 82,\n",
      "        64, 70, 68, 82,  2, 64, 77, 67,  2, 66, 64, 75, 75, 82,  2, 64, 81, 68,\n",
      "         2, 68, 77, 67, 14, 83, 78, 14, 68, 77, 67,  2, 68, 77, 66, 81, 88, 79,\n",
      "        83, 68, 67, 15,  2, 47, 78,  2, 78, 77, 68,  2, 78, 84, 83, 82, 72, 67,\n",
      "        68,  2, 78, 69,  2, 83, 71, 72, 82,  2, 66, 71, 64, 83, 13,  2, 77, 78,\n",
      "        83,  2, 68, 85, 68, 77,  2, 56, 71, 64])\n"
     ]
    }
   ],
   "source": [
    "import torch\n",
    "torch.cuda.is_available()\n",
    "data=torch.tensor(encode(joinedChat), dtype=torch.long)\n",
    "print(data.shape , data.dtype)\n",
    "print(data[:100])"
   ]
  },
  {
   "cell_type": "code",
   "execution_count": 7,
   "id": "bb3c7574",
   "metadata": {
    "scrolled": true
   },
   "outputs": [],
   "source": [
    "n = int(0.95 * len(data))\n",
    "train_data=data[:n]\n",
    "val_data=data[n:]"
   ]
  },
  {
   "cell_type": "markdown",
   "id": "fc0e4a64",
   "metadata": {},
   "source": [
    "Now take the data asa blocks. We chose the block size 8 and initialized the length of the training data with 9 as there are 8 positions to guess"
   ]
  },
  {
   "cell_type": "code",
   "execution_count": 8,
   "id": "d65bcb83",
   "metadata": {},
   "outputs": [
    {
     "data": {
      "text/plain": [
       "tensor([ 1, 38, 75, 72, 69,  2, 58, 64, 85])"
      ]
     },
     "execution_count": 8,
     "metadata": {},
     "output_type": "execute_result"
    }
   ],
   "source": [
    "block_size= 8\n",
    "batch_size= 4\n",
    "\n",
    "train_data[:block_size+1]"
   ]
  },
  {
   "cell_type": "code",
   "execution_count": 9,
   "id": "dfffaf06",
   "metadata": {},
   "outputs": [
    {
     "name": "stdout",
     "output_type": "stream",
     "text": [
      "input:\n",
      "torch.Size([4, 8])\n",
      "tensor([[38, 75, 72, 69,  2, 58, 64, 85],\n",
      "        [58, 64, 85, 81, 84, 76, 27,  2],\n",
      "        [81, 67, 64, 81, 75, 64, 88, 67],\n",
      "        [74, 82, 64,  2,  1, 38, 75, 72]])\n",
      "targets:\n",
      "torch.Size([4, 8])\n",
      "tensor([[75, 72, 69,  2, 58, 64, 85, 81],\n",
      "        [64, 85, 81, 84, 76, 27,  2, 34],\n",
      "        [67, 64, 81, 75, 64, 88, 67, 72],\n",
      "        [82, 64,  2,  1, 38, 75, 72, 69]])\n"
     ]
    }
   ],
   "source": [
    "torch.manual_seed(1337) # to be able to reproduce\n",
    "def get_batch(split):\n",
    "    data=train_data if split=='train' else val_data\n",
    "    #shape batchsize row vector\n",
    "    ix=torch.randint(len(data) - block_size, (batch_size,))\n",
    "    #stacked multiple sentences as row vectors\n",
    "    x=torch.stack([data[i:i+block_size] for i in ix])\n",
    "    #to train\n",
    "    y=torch.stack([data[i+1:i+block_size+1] for i in ix])\n",
    "    return x,y\n",
    "xb,yb= get_batch('train')\n",
    "print(\"input:\")\n",
    "print(xb.shape)\n",
    "print(xb)\n",
    "print(\"targets:\")\n",
    "print(yb.shape)\n",
    "print(yb)\n",
    "\n"
   ]
  },
  {
   "cell_type": "markdown",
   "id": "a740a285",
   "metadata": {},
   "source": [
    "# Using Bigram model=> Simple fast easy to understand\n",
    "Predict the next word from the earlier word.(In our case character) Conditional probability"
   ]
  },
  {
   "cell_type": "code",
   "execution_count": 47,
   "id": "25ca817e",
   "metadata": {},
   "outputs": [
    {
     "name": "stdout",
     "output_type": "stream",
     "text": [
      "131\n",
      "tokentable Embedding(131, 131)\n",
      "torch.Size([256, 131])\n",
      "tensor(5.2266, grad_fn=<NllLossBackward0>)\n",
      "\tq.\"5p<\n",
      "\n",
      "YtÜMHeBu®_*âZç5HmÜü0`R·lNSms]96]9wZO…ÇÜ)zfT0ıı¨s£=0İq}ıİâ~:2—QB40€kêI74Xm0Nip::7’₺L?—é12v^s]\n"
     ]
    }
   ],
   "source": [
    "import torch\n",
    "import torch.nn as nn\n",
    "from torch.nn import functional as F\n",
    "torch.manual_seed(1337)\n",
    "\n",
    "vocab_size=len(set(chars))\n",
    "print(vocab_size)\n",
    "#get the earlier character then propagate it \n",
    "\n",
    "class BigramLanguageModel(nn.Module):\n",
    "    \n",
    "    def __init__(self, vocab):\n",
    "        super().__init__()\n",
    "        #wrapper essentialy a table by number of characters*number of characters where you have the scores\n",
    "        self.token_embedding_table=nn.Embedding(vocab, vocab)\n",
    "        #print(\"tokentable\", self.token_embedding_table)\n",
    "\n",
    "    def forward(self, idx, targets=None):\n",
    "        logits=self.token_embedding_table(idx)\n",
    "        #logits B t C where B=4 batchsize, T=8 chunks, C=number of characters\n",
    "        if targets is None:\n",
    "            loss=None\n",
    "        else:\n",
    "            B,T,C=logits.shape\n",
    "            #remove Chunk indexes like appending together\n",
    "            logits= logits.view(B*T, C)\n",
    "            targets= targets.view(B*T)\n",
    "            loss=F.cross_entropy(logits, targets)\n",
    "        return logits, loss # scores\n",
    "    \n",
    "    def generate(self, idx, max_new_tokens):\n",
    "        for _ in range(max_new_tokens):\n",
    "            #Predictions\n",
    "            logits, loss=self(idx)\n",
    "            #Only take the last characters from chunks\n",
    "            logits=logits[:,-1,:]\n",
    "            probs=F.softmax(logits, dim=-1)\n",
    "            #get one sample from the softmax\n",
    "            idx_next=torch.multinomial(probs, num_samples=1) # (B,1)\n",
    "            #append the word to the chunk\n",
    "            idx=torch.cat((idx, idx_next),dim=1)  # (B,T+1)\n",
    "        return idx\n",
    "            \n",
    "m=BigramLanguageModel(vocab_size)\n",
    "logits, loss=m(xb,yb) # forward\n",
    "print(logits.shape)\n",
    "# estimated loss ln(1/131)\n",
    "print(loss)\n",
    "\n",
    "print(decode(m.generate(torch.zeros((1,1),dtype=torch.long), max_new_tokens=100)[0].tolist()))"
   ]
  },
  {
   "cell_type": "code",
   "execution_count": 39,
   "id": "a03b35bb",
   "metadata": {},
   "outputs": [],
   "source": [
    "optimizer=torch.optim.AdamW(m.parameters(), lr=1e-3)"
   ]
  },
  {
   "cell_type": "code",
   "execution_count": 43,
   "id": "d916f63a",
   "metadata": {},
   "outputs": [
    {
     "name": "stdout",
     "output_type": "stream",
     "text": [
      "2.1129515171051025\n"
     ]
    }
   ],
   "source": [
    "batch_size=32\n",
    "\n",
    "for steps in range(10000):\n",
    "    xb,yb=get_batch('train')\n",
    "    logits,loss=m(xb,yb)\n",
    "    optimizer.zero_grad(set_to_none=True)\n",
    "    loss.backward()\n",
    "    optimizer.step()\n",
    "print(loss.item())"
   ]
  },
  {
   "cell_type": "code",
   "execution_count": 45,
   "id": "1052b38b",
   "metadata": {},
   "outputs": [
    {
     "name": "stdout",
     "output_type": "stream",
     "text": [
      "\t7´l z berumgac: biteliyogake haZL€+…£Havruc: beyogu \n",
      "Elu Isdeirumgum Ho ogu Yacegavren dekum Elisavrte vrum: m:Donc: su Yam: s-\n",
      "Eliysk yi \n",
      "Dolm Te okim K=sim: am: Dogum: Yanlidiylenavromif Tam: AAtask AQidumde \n",
      "El tld : anlelime Bbim: Nelezc: tacacelifmfruzlinimacilir yum Bedah Angundeli Yac: Takim: ylimgerkamzlasis mudin n : zsogum: \n",
      "Dog  Gum: erusk Yalinakogatte am: S_In ndesi \n",
      "Eliyinen ”*ğittci\n"
     ]
    }
   ],
   "source": [
    "print(decode(m.generate(torch.zeros((1,1),dtype=torch.long), max_new_tokens=400)[0].tolist()))"
   ]
  },
  {
   "cell_type": "markdown",
   "id": "d3e0a25e",
   "metadata": {},
   "source": [
    "import ntlk\n",
    "AI_tokens=word_tokenize(joinedChat)\n",
    "print(AI_tokens[:500])"
   ]
  },
  {
   "cell_type": "markdown",
   "id": "0f3748af",
   "metadata": {},
   "source": [
    "from nltk.probability import FreqDist\n",
    "fdist=FreqDist()\n",
    "for word in AI_tokens:\n",
    "    fdist[word.lower()]+=1\n",
    "fdist"
   ]
  },
  {
   "cell_type": "code",
   "execution_count": null,
   "id": "605851fc",
   "metadata": {},
   "outputs": [],
   "source": []
  },
  {
   "cell_type": "code",
   "execution_count": null,
   "id": "e55c0c2a",
   "metadata": {},
   "outputs": [],
   "source": []
  }
 ],
 "metadata": {
  "kernelspec": {
   "display_name": "Python 3 (ipykernel)",
   "language": "python",
   "name": "python3"
  },
  "language_info": {
   "codemirror_mode": {
    "name": "ipython",
    "version": 3
   },
   "file_extension": ".py",
   "mimetype": "text/x-python",
   "name": "python",
   "nbconvert_exporter": "python",
   "pygments_lexer": "ipython3",
   "version": "3.9.16"
  }
 },
 "nbformat": 4,
 "nbformat_minor": 5
}
