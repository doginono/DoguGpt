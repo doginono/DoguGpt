{
 "cells": [
  {
   "cell_type": "code",
   "execution_count": 36,
   "id": "d2eea2a5",
   "metadata": {
    "scrolled": true
   },
   "outputs": [],
   "source": [
    "import nltk\n",
    "import os\n",
    "#chat = open(\"../_chat.txt\", encoding=\"utf-8\")\n",
    "with open(\"../_chat.txt\",  encoding=\"utf-8\") as f:\n",
    "    chat = [line.strip('\\n') for line in f]"
   ]
  },
  {
   "cell_type": "code",
   "execution_count": 105,
   "id": "dcfe01f5",
   "metadata": {
    "scrolled": true
   },
   "outputs": [
    {
     "name": "stdout",
     "output_type": "stream",
     "text": [
      "[04.10.17, 17:32:35] Elif Yavrum: ‎Messages and calls are end-to-end encrypted. No one outside of this chat, not even WhatsApp, can read or listen to them. [04.10.17, 17:32:35] Elif Yavrum: Numaram degisti ekle beni bro [04.10.17, 18:14:23] Dogu Tamgac: Ekledim bro [05.10.17, 12:14:44] Elif Yavrum: Kk [11.10.17, 21:24:19] Dogu Tamgac: Telefon aldim ha [11.10.17, 21:24:21] Dogu Tamgac: Ekle [11.10.17, 22:04:03] Elif Yavrum: Tamam eklerim ha [11.10.17, 22:12:36] Dogu Tamgac: Napan [11.10.17, 22:13\n",
      "<re.Match object; span=(0, 33), match='[04.10.17, 17:32:35] Elif Yavrum:'>\n",
      "\n",
      "  Messages and calls are end-to-end encrypted. No one outside of this chat, not even WhatsApp, can read or listen to them. \n",
      "  Numaram degisti ekle beni bro \n",
      "  Ekledim bro \n",
      "  Kk \n",
      "  Telefon aldim ha \n",
      "  Ekle \n",
      "  Tamam eklerim ha \n",
      "  Napan \n",
      "  Selinlerle viski iciyoruz \n",
      "  Sen \n",
      "  Ben de kayralardayim \n",
      "  Takiliyoz \n",
      "  Dersler basladi mi \n",
      "  Yok \n",
      "  Hala mathe vorkurs var \n",
      "  Sizde basladi mi \n",
      "  Basladi \n",
      "  Kan aliyolar :D \n",
      "  Ahahahahahahha \n",
      "  Cidden o kadar zor mu \n",
      "  Kiz var mi esasss \n",
      "  Kiz yok \n",
      "  Net cevap\n"
     ]
    }
   ],
   "source": [
    "#print(chat[:500])\n",
    "import re\n",
    "joinedChat=' '.join(chat)\n",
    "print(joinedChat[:500])\n",
    "pattern=re.compile(r\"\\[[^\\]]*\\] [A-Za-z]+ [A-Za-z]+:\", re.IGNORECASE)\n",
    "chhh=pattern.match(joinedChat)\n",
    "print(chhh)\n",
    "joinedChat=re.sub(r\"\\[[^\\]]*\\]\", '\\n', joinedChat)\n",
    "joinedChat=re.sub(r\"Elif Yavrum:\", '', joinedChat)\n",
    "joinedChat=re.sub(r\"Dogu Tamgac:\", '', joinedChat)\n",
    "joinedChat=joinedChat.replace(\"\\u200e\", \"\")\n",
    "print(joinedChat[:500])"
   ]
  },
  {
   "cell_type": "code",
   "execution_count": 108,
   "id": "8e370670",
   "metadata": {},
   "outputs": [],
   "source": [
    "from nltk.tokenize import word_tokenize"
   ]
  },
  {
   "cell_type": "code",
   "execution_count": 109,
   "id": "cfadb5a4",
   "metadata": {},
   "outputs": [
    {
     "name": "stdout",
     "output_type": "stream",
     "text": [
      "['Messages', 'and', 'calls', 'are', 'end-to-end', 'encrypted', '.', 'No', 'one', 'outside', 'of', 'this', 'chat', ',', 'not', 'even', 'WhatsApp', ',', 'can', 'read', 'or', 'listen', 'to', 'them', '.', 'Numaram', 'degisti', 'ekle', 'beni', 'bro', 'Ekledim', 'bro', 'Kk', 'Telefon', 'aldim', 'ha', 'Ekle', 'Tamam', 'eklerim', 'ha', 'Napan', 'Selinlerle', 'viski', 'iciyoruz', 'Sen', 'Ben', 'de', 'kayralardayim', 'Takiliyoz', 'Dersler', 'basladi', 'mi', 'Yok', 'Hala', 'mathe', 'vorkurs', 'var', 'Sizde', 'basladi', 'mi', 'Basladi', 'Kan', 'aliyolar', ':', 'D', 'Ahahahahahahha', 'Cidden', 'o', 'kadar', 'zor', 'mu', 'Kiz', 'var', 'mi', 'esasss', 'Kiz', 'yok', 'Net', 'cevap', ':', 'D', 'Ciddnenmi', ':', '(', 'Konular', 'zor', 'degil', 'de', 'Bende', 'her', 'yerde', 'erkek', 'kayniyo', ':', 'D', 'Siz', 'bunu', 'lisede', 'ogrendiniz', 'diyip', 'geciyo', 'Ama', 'ogrenmedik', ':', 'D', 'Haaa', 'O', 'kotuymus', 'bak', 'Burda', 'yuzde', '32', 'kiz', 'var', 'Aynen', 'Ama', 'calistim', 'bugun', 'Ohh', 'Calisirsan', 'yaparsin', 'bro', 'Nabiyon', 'lan', 'Derse', 'giricektim', 'Ders', 'yokmus', 'za', 'Eve', 'dinucem', 'Sen', 'naps', 'Teorik', 'fizikten', 'cikiyorum', 'simdi', 'Basil', 'yokmus', 'ders', ':', 'D', 'Bu', 'hafta', 'Kulup', 'haftasi', 'Tanisma', 'partileri', 'filan', 'Ben', 'hatta', 'kulupten', 'gelmistim', 'Iste', 'millet', 'gelemez', 'diye', 'yapmamislar', 'Ben', 'bilmeden', 'gidip', 'dondum', '❤', ':', 'D', 'ahahahahah', 'Bizim', 'basladi', 'baya', 'Herkesle', 'yavsasiyo', 'musun', 'Partilerin', 'amaci', 'o', 'Aahahahahahahahah', 'Yok', 'be', 'Ben', 'kulupte', 'erkeklerdense', 'kizlarla', 'eglenmeyi', 'yegkiyorum', 'Kulupte', 'tek', 'gecelik', 'takilmacalar', 'huc', 'bana', 'gore', 'degilxd', ':', 'D', 'wowowowow', 'Bir', 'suru', 'erkek', 'vardir', 'orda', 'simdi', 'Var', 'tabi', 'Ya', 'dogruya', 'dogru', 'Gecen', 'hafta', 'sonu', 'Alihanin', 'bir', 'arkadasiyla', 'takildik', 'Bir', 'iki', 'gece', 'Ve', 'cocuk', 'Hayatimda', 'gordugum', 'en', 'yakisikli', 'insan', 'olabilir', 'Elde', 'ettigim', 'zaten', 'En', 'yakisikli', 'insan', 'Ve', 'yani', 'ondan', 'sonra', 'Butun', 'erkekler', 'Cirkin', 'geliyo', 'Hani', 'o', 'seviyeden', 'bir', 'anda', 'alman', 'seviyesine', 'dusemem', 'Cocuga', 'bakiyosun', 'boyle', 'Mukemmel', 'Hata', 'yok', 'Her', 'yeri', 'guzel', 'Ve', 'cocuk', 'beni', 'begendi', 'Hani', 'Ego', 'Top', 'Alihan', 'kim', 'yav', 'Selinin', 'sevgilisi', 'Ayni', 'yurttayiz', 'ya', 'Yakiniz', 'baya', 'iste', ':', 'D', 'ahdhahhahs', 'Atsana', 'resmini', 'yedigin', 'cocugun', 'Hep', 'eysana', 'anlat', 'sen', ':', 'D', 'Ahahahahaha', 'Eysana', 'da', 'tam', 'anlatmadim', 'zaten', 'Sana', 'daha', 'cok', 'anlattim', 'Eysan', 'tam', 'cocugu', 'odama', 'attgimfa', 'mesaj', 'atti', 'ahdjsh', 'Dur', 'atiyorum', 'image', 'omitted', 'image', 'omitted', 'image', 'omitted', 'Cocuk', 'o', 'kadar', 'Fuckboyum', 'diye', 'bagiriyo', 'ki', 'Allahim', 'yani', 'Bu', 'mu', 'fuckboy', 'Yakisikli', 'herif', 'de', 'Nasil', 'fuckboydu', 'Sana', 'Anlatamam', 'Daha', 'cok', 'fuckgirl', 'gibi', 'Ahahahahahahhahaahhahahahaha', 'Sacmalama', 'ya', 'Abi', 'Cocuklarimiz', 'cok', 'guzel', 'olurdu', 'Lanet', 'olsun', 'O', 'da', 'goztepede', 'oturuyomus', '5', 'dj', 'ilerimde❤', 'Eskiden', 'de', 'atakoyde', 'oturuyomus', '❤', ':', 'D', 'ahahsgshsgsh', 'Ee', 'naptiniz', '1', ')', 'Reglydim', '!', '!', '!', '!', 'REGLYDIM', 'IKI', 'GECE', 'DE', 'REFLYSIM', 'ALLAH', 'REGLNIN', 'BELASINI', 'VERSIN', '!', '!', '!', '!', '!', '!', '!', '₺', 'Yiyistik', 'ellestik', 'filan', 'Gercekten', 'cok', 'bir', 'sey', 'yapmadik', 'Iki', 'gece', 'de', 'birlikte', 'gilan', 'uyuduk', 'Tatliydi', ':', 'D', 'he', 'he', 'Tamam', 'tamam', 'ben', 'anladim', 'Ahahahahahahah', ':', 'D', 'helal', 'olsun', 'Boyle', 'devam', 'Minayla', 'mi', 'takiliyosun', 'Sirf', 'mina', 'degil', 'Hatta', 'minayla', 'daha', 'az', 'takiliyoruz', 'burada', 'Genelde', 'selinlerleyim', 'Benim', 'yurttalar', 'ya', 'Sonra', 'ielden', 'tanistigim', 'bir', 'suru', 'insan', 'var', 'Atayla', 'takiliyosundur', 'sen', ':', 'D', 'Onlar', 'da', 'benle', 'makine', 'ferslerini', 'aliyolar', 'Atayla', 'da', 'takiliyorum', 'Ama', 'Cok', 'degil', 'Mina', 'hack', 'bulmus', 'like', 'icin', 'instada', 'Ata', 'dovme', 'mi', 'yaptirmis', 'Nasil', 'yani', 'Meme', 'hacki', 'mi', 'Ahahahaha', ':', 'D', 'aynen', 'Galiba', 'yaptirdi', 'evet', 'Ne', 'biliyim', 'Atanin', 'hep', 'dovmesi', 'vardi', 'ya', 'Ahahsjsakdjskd', 'Farklarini', 'anlamiyorum', 'Frida', 'kahlo', 'gibi', 'gordum', 'de', 'Baya', 'gulcektim', 'Ahahahahahahahahahahahahah', 'Yok', 'Bir', 'kadini']\n"
     ]
    }
   ],
   "source": [
    "AI_tokens=word_tokenize(joinedChat)\n",
    "print(AI_tokens[:500])"
   ]
  },
  {
   "cell_type": "code",
   "execution_count": 112,
   "id": "2c3d9c16",
   "metadata": {},
   "outputs": [
    {
     "name": "stdout",
     "output_type": "stream",
     "text": [
      "<FreqDist with 55288 samples and 343219 outcomes>\n"
     ]
    }
   ],
   "source": [
    "from nltk.probability import FreqDist\n",
    "fdist=FreqDist()\n",
    "for word in AI_tokens:\n",
    "    fdist[word.lower()]+=1\n",
    "print(fdist)"
   ]
  }
 ],
 "metadata": {
  "kernelspec": {
   "display_name": "Python 3 (ipykernel)",
   "language": "python",
   "name": "python3"
  },
  "language_info": {
   "codemirror_mode": {
    "name": "ipython",
    "version": 3
   },
   "file_extension": ".py",
   "mimetype": "text/x-python",
   "name": "python",
   "nbconvert_exporter": "python",
   "pygments_lexer": "ipython3",
   "version": "3.9.12"
  }
 },
 "nbformat": 4,
 "nbformat_minor": 5
}
