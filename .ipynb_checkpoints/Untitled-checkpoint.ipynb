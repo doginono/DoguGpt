{
 "cells": [
  {
   "cell_type": "code",
   "execution_count": 36,
   "id": "825afe68",
   "metadata": {
    "scrolled": true
   },
   "outputs": [],
   "source": [
    "import nltk\n",
    "import os\n",
    "#chat = open(\"../_chat.txt\", encoding=\"utf-8\")\n",
    "with open(\"../_chat.txt\",  encoding=\"utf-8\") as f:\n",
    "    chat = [line.strip('\\n') for line in f]"
   ]
  },
  {
   "cell_type": "code",
   "execution_count": 56,
   "id": "59f325b0",
   "metadata": {},
   "outputs": [
    {
     "name": "stdout",
     "output_type": "stream",
     "text": [
      "116286\n",
      "None\n"
     ]
    }
   ],
   "source": [
    "print(chat[:500])\n",
    "import re\n",
    "x=re.search(\"^([1-9] |1[0-9]| 2[0-9]|3[0-1])(.|-)([1-9] |1[0-2])(.|-|)20[0-9][0-9]$\",' '.join(chat))\n",
    "print(x)"
   ]
  },
  {
   "cell_type": "code",
   "execution_count": 42,
   "id": "7d605164",
   "metadata": {},
   "outputs": [],
   "source": [
    "from nltk.tokenize import word_tokenize"
   ]
  },
  {
   "cell_type": "code",
   "execution_count": 50,
   "id": "c4fc657f",
   "metadata": {},
   "outputs": [
    {
     "name": "stdout",
     "output_type": "stream",
     "text": [
      "['[', '04.10.17', ',', '17:32:35', ']', 'Elif', 'Yavrum', ':', '\\u200eMessages', 'and', 'calls', 'are', 'end-to-end', 'encrypted', '.', 'No', 'one', 'outside', 'of', 'this', 'chat', ',', 'not', 'even', 'WhatsApp', ',', 'can', 'read', 'or', 'listen', 'to', 'them', '.', '[', '04.10.17', ',', '17:32:35', ']', 'Elif', 'Yavrum', ':', 'Numaram', 'degisti', 'ekle', 'beni', 'bro', '[', '04.10.17', ',', '18:14:23', ']', 'Dogu', 'Tamgac', ':', 'Ekledim', 'bro', '[', '05.10.17', ',', '12:14:44', ']', 'Elif', 'Yavrum', ':', 'Kk', '[', '11.10.17', ',', '21:24:19', ']', 'Dogu', 'Tamgac', ':', 'Telefon', 'aldim', 'ha', '[', '11.10.17', ',', '21:24:21', ']', 'Dogu', 'Tamgac', ':', 'Ekle', '[', '11.10.17', ',', '22:04:03', ']', 'Elif', 'Yavrum', ':', 'Tamam', 'eklerim', 'ha', '[', '11.10.17', ',', '22:12:36', ']', 'Dogu', 'Tamgac', ':', 'Napan', '[', '11.10.17', ',', '22:13:59', ']', 'Elif', 'Yavrum', ':', 'Selinlerle', 'viski', 'iciyoruz', '[', '11.10.17', ',', '22:14:01', ']', 'Elif', 'Yavrum', ':', 'Sen', '[', '11.10.17', ',', '22:14:55', ']', 'Dogu', 'Tamgac', ':', 'Ben', 'de', 'kayralardayim', '[', '11.10.17', ',', '22:14:57', ']', 'Dogu', 'Tamgac', ':', 'Takiliyoz', '[', '11.10.17', ',', '22:15:00', ']', 'Dogu', 'Tamgac', ':', 'Dersler', 'basladi', 'mi', '[', '11.10.17', ',', '22:28:11', ']', 'Elif', 'Yavrum', ':', 'Yok', '[', '11.10.17', ',', '22:28:19', ']', 'Elif', 'Yavrum', ':', 'Hala', 'mathe', 'vorkurs', 'var', '[', '11.10.17', ',', '22:28:23', ']', 'Elif', 'Yavrum', ':', 'Sizde', 'basladi', 'mi', '[', '11.10.17', ',', '22:28:27', ']', 'Dogu', 'Tamgac', ':', 'Basladi', '[', '11.10.17', ',', '22:28:31', ']', 'Dogu', 'Tamgac', ':', 'Kan', 'aliyolar', ':', 'D', '[', '11.10.17', ',', '22:28:36', ']', 'Elif', 'Yavrum', ':', 'Ahahahahahahha', '[', '11.10.17', ',', '22:28:41', ']', 'Elif', 'Yavrum', ':', 'Cidden', 'o', 'kadar', 'zor', 'mu', '[', '11.10.17', ',', '22:28:50', ']', 'Elif', 'Yavrum', ':', 'Kiz', 'var', 'mi', 'esasss', '[', '11.10.17', ',', '22:28:57', ']', 'Dogu', 'Tamgac', ':', 'Kiz', 'yok', '[', '11.10.17', ',', '22:29:06', ']', 'Dogu', 'Tamgac', ':', 'Net', 'cevap', ':', 'D', '[', '11.10.17', ',', '22:29:07', ']', 'Elif', 'Yavrum', ':', 'Ciddnenmi', ':', '(', '[', '11.10.17', ',', '22:29:13', ']', 'Dogu', 'Tamgac', ':', 'Konular', 'zor', 'degil', 'de', '[', '11.10.17', ',', '22:29:14', ']', 'Elif', 'Yavrum', ':', 'Bende', 'her', 'yerde', 'erkek', 'kayniyo', ':', 'D', '[', '11.10.17', ',', '22:29:21', ']', 'Dogu', 'Tamgac', ':', 'Siz', 'bunu', 'lisede', 'ogrendiniz', 'diyip', 'geciyo', '[', '11.10.17', ',', '22:29:25', ']', 'Dogu', 'Tamgac', ':', 'Ama', 'ogrenmedik', '[', '11.10.17', ',', '22:29:28', ']', 'Dogu', 'Tamgac', ':', ':', 'D', '[', '11.10.17', ',', '22:29:32', ']', 'Elif', 'Yavrum', ':', 'Haaa', '[', '11.10.17', ',', '22:29:34', ']', 'Elif', 'Yavrum', ':', 'O', 'kotuymus', 'bak', '[', '11.10.17', ',', '22:29:44', ']', 'Dogu', 'Tamgac', ':', 'Burda', 'yuzde', '32', 'kiz', 'var', '[', '11.10.17', ',', '22:29:46', ']', 'Dogu', 'Tamgac', ':', 'Aynen', '[', '11.10.17', ',', '22:29:52', ']', 'Dogu', 'Tamgac', ':', 'Ama', 'calistim', 'bugun', '[', '11.10.17', ',', '22:35:35', ']', 'Elif', 'Yavrum', ':', 'Ohh', '[', '11.10.17', ',', '22:35:37', ']', 'Elif', 'Yavrum', ':', 'Calisirsan', 'yaparsin', 'bro', '[', '17.10.17', ',', '11:17:07', ']', 'Dogu', 'Tamgac', ':', 'Nabiyon', 'lan', '[', '17.10.17', ',', '11:27:56', ']', 'Elif', 'Yavrum', ':', 'Derse', 'giricektim', '[', '17.10.17', ',', '11:27:58', ']', 'Elif', 'Yavrum', ':', 'Ders', 'yokmus', 'za', '[', '17.10.17', ',', '11:28:01', ']', 'Elif', 'Yavrum', ':', 'Eve', 'dinucem', '[', '17.10.17', ',', '11:28:02', ']', 'Elif', 'Yavrum', ':', 'Sen', 'naps', '[', '17.10.17', ',', '11:50:02', ']', 'Dogu', 'Tamgac', ':', 'Teorik', 'fizikten', 'cikiyorum', 'simdi', '[', '17.10.17', ',', '11:50:06', ']', 'Dogu', 'Tamgac', ':', 'Basil', 'yokmus', 'ders', ':', 'D', '[', '17.10.17', ',', '11:50:21', ']', 'Elif', 'Yavrum', ':', 'Bu', 'hafta', '[', '17.10.17', ',', '11:50:22']\n"
     ]
    },
    {
     "data": {
      "text/plain": [
       "FreqDist({':': 125654, ',': 115812, '[': 115395, ']': 115395, 'elif': 68702, 'yavrum': 68371, 'dogu': 47896, 'tamgac': 47179, 'd': 8236, 'de': 4625, ...})"
      ]
     },
     "execution_count": 50,
     "metadata": {},
     "output_type": "execute_result"
    }
   ],
   "source": [
    "AI_tokens=word_tokenize(''.join(chat))\n",
    "print(AI_tokens[:500])\n",
    "from nltk.probability import FreqDist\n",
    "fdist=FreqDist()\n",
    "for word in AI_tokens:\n",
    "    fdist[word.lower()]+=1\n",
    "fdist"
   ]
  },
  {
   "cell_type": "code",
   "execution_count": null,
   "id": "b64ee827",
   "metadata": {},
   "outputs": [],
   "source": []
  }
 ],
 "metadata": {
  "kernelspec": {
   "display_name": "Python 3 (ipykernel)",
   "language": "python",
   "name": "python3"
  },
  "language_info": {
   "codemirror_mode": {
    "name": "ipython",
    "version": 3
   },
   "file_extension": ".py",
   "mimetype": "text/x-python",
   "name": "python",
   "nbconvert_exporter": "python",
   "pygments_lexer": "ipython3",
   "version": "3.9.12"
  }
 },
 "nbformat": 4,
 "nbformat_minor": 5
}
