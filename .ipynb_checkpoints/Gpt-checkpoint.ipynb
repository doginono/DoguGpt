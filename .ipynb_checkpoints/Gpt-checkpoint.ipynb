{
 "cells": [
  {
   "cell_type": "code",
   "execution_count": 1,
   "id": "d2eea2a5",
   "metadata": {
    "scrolled": true
   },
   "outputs": [],
   "source": [
    "import nltk\n",
    "import os\n",
    "#chat = open(\"../_chat.txt\", encoding=\"utf-8\")\n",
    "with open(\"../_chat.txt\",  encoding=\"utf-8\") as f:\n",
    "    chat = [line.strip('\\n') for line in f]"
   ]
  },
  {
   "cell_type": "code",
   "execution_count": 63,
   "id": "dcfe01f5",
   "metadata": {
    "scrolled": true
   },
   "outputs": [
    {
     "name": "stdout",
     "output_type": "stream",
     "text": [
      "[04.10.17, 17:32:35] Elif Yavrum: ‎Messages and calls are end-to-end encrypted. No one outside of this chat, not even WhatsApp, can read or listen to them. [04.10.17, 17:32:35] Elif Yavrum: Numaram degisti ekle beni bro [04.10.17, 18:14:23] Dogu Tamgac: Ekledim bro [05.10.17, 12:14:44] Elif Yavrum: Kk [11.10.17, 21:24:19] Dogu Tamgac: Telefon aldim ha [11.10.17, 21:24:21] Dogu Tamgac: Ekle [11.10.17, 22:04:03] Elif Yavrum: Tamam eklerim ha [11.10.17, 22:12:36] Dogu Tamgac: Napan [11.10.17, 22:13\n",
      "<re.Match object; span=(0, 33), match='[04.10.17, 17:32:35] Elif Yavrum:'>\n",
      "\n",
      "Elif Yavrum: Messages and calls are end-to-end encrypted. No one outside of this chat, not even WhatsApp, can read or listen to them. \n",
      "Elif Yavrum: Numaram degisti ekle beni bro \n",
      "Dogu Tamgac: Ekledim bro \n",
      "Elif Yavrum: Kk \n",
      "Dogu Tamgac: Telefon aldim ha \n",
      "Dogu Tamgac: Ekle \n",
      "Elif Yavrum: Tamam eklerim ha \n",
      "Dogu Tamgac: Napan \n",
      "Elif Yavrum: Selinlerle viski iciyoruz \n",
      "Elif Yavrum: Sen \n",
      "Dogu Tamgac: Ben de kayralardayim \n",
      "Dogu Tamgac: Takiliyoz \n",
      "Dogu Tamgac: Dersler basladi mi \n",
      "Elif Yavrum: Yok \n",
      "Elif Yav\n"
     ]
    }
   ],
   "source": [
    "#print(chat[:500])\n",
    "import re\n",
    "joinedChat=' '.join(chat)\n",
    "print(joinedChat[:500])\n",
    "\n",
    "emoj = re.compile(\"[\"\n",
    "        u\"\\U0001F600-\\U0001F64F\"  # emoticons\n",
    "        u\"\\U0001F300-\\U0001F5FF\"  # symbols & pictographs\n",
    "        u\"\\U0001F680-\\U0001F6FF\"  # transport & map symbols\n",
    "        u\"\\U0001F1E0-\\U0001F1FF\"  # flags (iOS)\n",
    "        u\"\\U00002500-\\U00002BEF\"  # chinese char\n",
    "        u\"\\U00002702-\\U000027B0\"\n",
    "        u\"\\U00002702-\\U000027B0\"\n",
    "        u\"\\U000024C2-\\U0001F251\"\n",
    "        u\"\\U0001f926-\\U0001f937\"\n",
    "        u\"\\U00010000-\\U0010ffff\"\n",
    "        u\"\\u2640-\\u2642\" \n",
    "        u\"\\u2600-\\u2B55\"\n",
    "        u\"\\u200d\"\n",
    "        u\"\\u23cf\"\n",
    "        u\"\\u23e9\"\n",
    "        u\"\\u231a\"\n",
    "        u\"\\ufe0f\"  # dingbats\n",
    "        u\"\\u3030\"\n",
    "                      \"]+\", re.UNICODE)\n",
    "joinedChat=(emoj.sub(r'', joinedChat)) # no emoji\n",
    "\n",
    "print(chhh)\n",
    "joinedChat=re.sub(r\"\\[[^\\]]*\\]\", '\\n', joinedChat)\n",
    "joinedChat=re.sub(r\" Elif Yavrum:\", 'Elif Yavrum:', joinedChat)\n",
    "joinedChat=re.sub(r\" Dogu Tamgac:\", 'Dogu Tamgac:', joinedChat)\n",
    "joinedChat=joinedChat.replace(\"\\u200e\", \"\")\n",
    "print(joinedChat[:500])"
   ]
  },
  {
   "cell_type": "code",
   "execution_count": 65,
   "id": "63434bfa",
   "metadata": {},
   "outputs": [],
   "source": [
    "chars=sorted(list(set(joinedChat)))"
   ]
  },
  {
   "cell_type": "code",
   "execution_count": 66,
   "id": "8e370670",
   "metadata": {
    "scrolled": true
   },
   "outputs": [
    {
     "name": "stdout",
     "output_type": "stream",
     "text": [
      "\t\n",
      " !\"#%&'()*+,-./0123456789:;<=>?@ABCDEFGHIJKLMNOPQRSTUVWXYZ]^_`abcdefghijklmnopqrstuvwxyz|}~ £¨«®¯´·»ÇÖ×ÜßâäçéêöüğİıŞş̈‐—’“”„•…€₺⃣\n",
      "131\n"
     ]
    }
   ],
   "source": [
    "vocab_size=len(set(chars))\n",
    "print(''.join(chars))\n",
    "print(vocab_size)"
   ]
  },
  {
   "cell_type": "markdown",
   "id": "e8dd74c0",
   "metadata": {},
   "source": [
    "# Building character level language model. <br>\n",
    "stoi: Map strings to integers. <br>\n",
    "Then apply it and have two dictionaries for encoding and decoding"
   ]
  },
  {
   "cell_type": "code",
   "execution_count": 69,
   "id": "e8d4b6ff",
   "metadata": {},
   "outputs": [],
   "source": [
    "stoi={ch:i for i,ch in enumerate(chars)}\n",
    "itoi={i:ch for i,ch in enumerate(chars)}"
   ]
  },
  {
   "cell_type": "code",
   "execution_count": 67,
   "id": "cfadb5a4",
   "metadata": {},
   "outputs": [
    {
     "name": "stdout",
     "output_type": "stream",
     "text": [
      "['Elif', 'Yavrum', ':', 'Messages', 'and', 'calls', 'are', 'end-to-end', 'encrypted', '.', 'No', 'one', 'outside', 'of', 'this', 'chat', ',', 'not', 'even', 'WhatsApp', ',', 'can', 'read', 'or', 'listen', 'to', 'them', '.', 'Elif', 'Yavrum', ':', 'Numaram', 'degisti', 'ekle', 'beni', 'bro', 'Dogu', 'Tamgac', ':', 'Ekledim', 'bro', 'Elif', 'Yavrum', ':', 'Kk', 'Dogu', 'Tamgac', ':', 'Telefon', 'aldim', 'ha', 'Dogu', 'Tamgac', ':', 'Ekle', 'Elif', 'Yavrum', ':', 'Tamam', 'eklerim', 'ha', 'Dogu', 'Tamgac', ':', 'Napan', 'Elif', 'Yavrum', ':', 'Selinlerle', 'viski', 'iciyoruz', 'Elif', 'Yavrum', ':', 'Sen', 'Dogu', 'Tamgac', ':', 'Ben', 'de', 'kayralardayim', 'Dogu', 'Tamgac', ':', 'Takiliyoz', 'Dogu', 'Tamgac', ':', 'Dersler', 'basladi', 'mi', 'Elif', 'Yavrum', ':', 'Yok', 'Elif', 'Yavrum', ':', 'Hala', 'mathe', 'vorkurs', 'var', 'Elif', 'Yavrum', ':', 'Sizde', 'basladi', 'mi', 'Dogu', 'Tamgac', ':', 'Basladi', 'Dogu', 'Tamgac', ':', 'Kan', 'aliyolar', ':', 'D', 'Elif', 'Yavrum', ':', 'Ahahahahahahha', 'Elif', 'Yavrum', ':', 'Cidden', 'o', 'kadar', 'zor', 'mu', 'Elif', 'Yavrum', ':', 'Kiz', 'var', 'mi', 'esasss', 'Dogu', 'Tamgac', ':', 'Kiz', 'yok', 'Dogu', 'Tamgac', ':', 'Net', 'cevap', ':', 'D', 'Elif', 'Yavrum', ':', 'Ciddnenmi', ':', '(', 'Dogu', 'Tamgac', ':', 'Konular', 'zor', 'degil', 'de', 'Elif', 'Yavrum', ':', 'Bende', 'her', 'yerde', 'erkek', 'kayniyo', ':', 'D', 'Dogu', 'Tamgac', ':', 'Siz', 'bunu', 'lisede', 'ogrendiniz', 'diyip', 'geciyo', 'Dogu', 'Tamgac', ':', 'Ama', 'ogrenmedik', 'Dogu', 'Tamgac', ':', ':', 'D', 'Elif', 'Yavrum', ':', 'Haaa', 'Elif', 'Yavrum', ':', 'O', 'kotuymus', 'bak', 'Dogu', 'Tamgac', ':', 'Burda', 'yuzde', '32', 'kiz', 'var', 'Dogu', 'Tamgac', ':', 'Aynen', 'Dogu', 'Tamgac', ':', 'Ama', 'calistim', 'bugun', 'Elif', 'Yavrum', ':', 'Ohh', 'Elif', 'Yavrum', ':', 'Calisirsan', 'yaparsin', 'bro', 'Dogu', 'Tamgac', ':', 'Nabiyon', 'lan', 'Elif', 'Yavrum', ':', 'Derse', 'giricektim', 'Elif', 'Yavrum', ':', 'Ders', 'yokmus', 'za', 'Elif', 'Yavrum', ':', 'Eve', 'dinucem', 'Elif', 'Yavrum', ':', 'Sen', 'naps', 'Dogu', 'Tamgac', ':', 'Teorik', 'fizikten', 'cikiyorum', 'simdi', 'Dogu', 'Tamgac', ':', 'Basil', 'yokmus', 'ders', ':', 'D', 'Elif', 'Yavrum', ':', 'Bu', 'hafta', 'Elif', 'Yavrum', ':', 'Kulup', 'haftasi', 'Elif', 'Yavrum', ':', 'Tanisma', 'partileri', 'filan', 'Elif', 'Yavrum', ':', 'Ben', 'hatta', 'kulupten', 'gelmistim', 'Elif', 'Yavrum', ':', 'Iste', 'millet', 'gelemez', 'diye', 'yapmamislar', 'Elif', 'Yavrum', ':', 'Ben', 'bilmeden', 'gidip', 'dondum', 'Elif', 'Yavrum', ':', 'Dogu', 'Tamgac', ':', ':', 'D', 'ahahahahah', 'Dogu', 'Tamgac', ':', 'Bizim', 'basladi', 'baya', 'Dogu', 'Tamgac', ':', 'Herkesle', 'yavsasiyo', 'musun', 'Dogu', 'Tamgac', ':', 'Partilerin', 'amaci', 'o', 'Elif', 'Yavrum', ':', 'Aahahahahahahahah', 'Elif', 'Yavrum', ':', 'Yok', 'be', 'Elif', 'Yavrum', ':', 'Ben', 'kulupte', 'erkeklerdense', 'kizlarla', 'eglenmeyi', 'yegkiyorum', 'Elif', 'Yavrum', ':', 'Kulupte', 'tek', 'gecelik', 'takilmacalar', 'huc', 'bana', 'gore', 'degilxd', 'Dogu', 'Tamgac', ':', ':', 'D', 'wowowowow', 'Dogu', 'Tamgac', ':', 'Bir', 'suru', 'erkek', 'vardir', 'orda', 'simdi', 'Elif', 'Yavrum', ':', 'Var', 'tabi', 'Elif', 'Yavrum', ':', 'Ya', 'dogruya', 'dogru', 'Elif', 'Yavrum', ':', 'Gecen', 'hafta', 'sonu', 'Elif', 'Yavrum', ':', 'Alihanin', 'bir', 'arkadasiyla', 'takildik', 'Elif', 'Yavrum', ':', 'Bir', 'iki', 'gece', 'Elif', 'Yavrum', ':', 'Ve', 'cocuk', 'Elif', 'Yavrum', ':', 'Hayatimda', 'gordugum', 'en', 'yakisikli', 'insan', 'olabilir', 'Elif', 'Yavrum', ':', 'Elde', 'ettigim', 'zaten', 'Elif', 'Yavrum', ':', 'En', 'yakisikli', 'insan', 'Elif', 'Yavrum', ':', 'Ve', 'yani', 'ondan', 'sonra', 'Elif', 'Yavrum', ':', 'Butun', 'erkekler', 'Elif', 'Yavrum', ':', 'Cirkin', 'geliyo', 'Elif', 'Yavrum', ':', 'Hani', 'o', 'seviyeden', 'bir', 'anda', 'alman', 'seviyesine', 'dusemem', 'Elif', 'Yavrum', ':', 'Cocuga', 'bakiyosun', 'boyle', 'Elif', 'Yavrum', ':', 'Mukemmel', 'Elif', 'Yavrum', ':', 'Hata', 'yok', 'Elif', 'Yavrum', ':', 'Her', 'yeri', 'guzel', 'Elif', 'Yavrum', ':', 'Ve', 'cocuk', 'beni', 'begendi', 'Elif', 'Yavrum', ':', 'Hani', 'Elif', 'Yavrum', ':', 'Ego']\n"
     ]
    }
   ],
   "source": [
    "AI_tokens=word_tokenize(joinedChat)\n",
    "print(AI_tokens[:500])"
   ]
  },
  {
   "cell_type": "code",
   "execution_count": 68,
   "id": "2c3d9c16",
   "metadata": {},
   "outputs": [
    {
     "data": {
      "text/plain": [
       "FreqDist({':': 125654, 'elif': 68704, 'yavrum': 68381, 'dogu': 47908, 'tamgac': 47181, 'd': 8537, 'omitted': 5018, 'de': 4652, 'ben': 4284, 'mi': 4254, ...})"
      ]
     },
     "execution_count": 68,
     "metadata": {},
     "output_type": "execute_result"
    }
   ],
   "source": [
    "from nltk.probability import FreqDist\n",
    "fdist=FreqDist()\n",
    "for word in AI_tokens:\n",
    "    fdist[word.lower()]+=1\n",
    "fdist"
   ]
  },
  {
   "cell_type": "code",
   "execution_count": null,
   "id": "59ef3163",
   "metadata": {},
   "outputs": [],
   "source": []
  },
  {
   "cell_type": "code",
   "execution_count": null,
   "id": "59b17d1f",
   "metadata": {},
   "outputs": [],
   "source": []
  }
 ],
 "metadata": {
  "kernelspec": {
   "display_name": "Python 3 (ipykernel)",
   "language": "python",
   "name": "python3"
  },
  "language_info": {
   "codemirror_mode": {
    "name": "ipython",
    "version": 3
   },
   "file_extension": ".py",
   "mimetype": "text/x-python",
   "name": "python",
   "nbconvert_exporter": "python",
   "pygments_lexer": "ipython3",
   "version": "3.9.12"
  }
 },
 "nbformat": 4,
 "nbformat_minor": 5
}
